{
  "nbformat": 4,
  "nbformat_minor": 0,
  "metadata": {
    "colab": {
      "provenance": [],
      "include_colab_link": true
    },
    "kernelspec": {
      "name": "python3",
      "display_name": "Python 3"
    },
    "language_info": {
      "name": "python"
    }
  },
  "cells": [
    {
      "cell_type": "markdown",
      "metadata": {
        "id": "view-in-github",
        "colab_type": "text"
      },
      "source": [
        "<a href=\"https://colab.research.google.com/github/karenswang/computational-journalism/blob/main/Computational_Journalism_Meeting_13.ipynb\" target=\"_parent\"><img src=\"https://colab.research.google.com/assets/colab-badge.svg\" alt=\"Open In Colab\"/></a>"
      ]
    },
    {
      "cell_type": "markdown",
      "source": [
        "\n",
        "<img src=\"https://pbs.twimg.com/profile_images/1685001219469647872/5T9vglL1_400x400.png\" width=150>\n",
        "\n",
        "## Community Notes: Ice Cream in Kyiv\n",
        "\n",
        "This notebook will cover the basics of (relational) database design, some pandas gymnastics and a little on content moderation... or one automated approach to it.\n",
        "\n",
        "[Community Notes (born Birdwatch) is a  program offered by X](https://twitter.com/i/birdwatch) that invites \"community\" members to provide useful context for tweets. It is an attempt to deal with misinformation on the platform.\n",
        "\n",
        "Here's a screenshot of a tweet with a note. The tweet is criticizing President Biden for answering serious questions from reporters while eating an ice cream cone. The tweet has numerical ID  `1762285247922614315` -- all tweets are uniquely identifiable by their IDs.\n",
        "\n",
        "<br>\n",
        "\n",
        "<img src=\"https://github.com/cocteau/Computational_Journalism_2024/blob/main/images/Screenshot%202024-02-27%20at%2012.49.51%20PM.png?raw=true\" width=400>\n",
        "<br><br>\n",
        "\n",
        "The tweet is from a commentator Clay Travis ([X profile](https://twitter.com/ClayTravis), [website](https://www.outkick.com/). On X, Travis has a numerical ID of `50772918`. Every person on X has an ID. For a long time, IDs were assigned sequentially... literally. So the smaller your number, the higher your status in some sense.\n",
        "\n",
        "For context on the Bident comment from Travis, here the tweet pinned his timeline.\n",
        "\n",
        "\n",
        "\n"
      ],
      "metadata": {
        "id": "_wHjuNGGm8C8"
      }
    },
    {
      "cell_type": "code",
      "source": [
        "%%HTML\n",
        "<blockquote class=\"twitter-tweet\"><p lang=\"en\" dir=\"ltr\">Trump smokes Haley, Biden ominous signs in Michigan primary, Bud Light keeps tanking, Super Bowl ads don’t work, Athens mayor says Trump’s to blame for Laken Riley murder, Mitch McConnell steps down, NFL combine under way, CBB picks with prize picks<a href=\"https://t.co/SxcKEBVgRA\">https://t.co/SxcKEBVgRA</a></p>&mdash; Clay Travis (@ClayTravis) <a href=\"https://twitter.com/ClayTravis/status/1762931219560362107?ref_src=twsrc%5Etfw\">February 28, 2024</a></blockquote>\n",
        "<script async src=\"https://platform.twitter.com/widgets.js\" charset=\"utf-8\"></script>"
      ],
      "metadata": {
        "id": "dxuhcyigsdeH",
        "outputId": "42127344-168c-40db-c0e5-f9884a0acdde",
        "colab": {
          "base_uri": "https://localhost:8080/",
          "height": 708
        }
      },
      "execution_count": 1,
      "outputs": [
        {
          "output_type": "display_data",
          "data": {
            "text/plain": [
              "<IPython.core.display.HTML object>"
            ],
            "text/html": [
              "<blockquote class=\"twitter-tweet\"><p lang=\"en\" dir=\"ltr\">Trump smokes Haley, Biden ominous signs in Michigan primary, Bud Light keeps tanking, Super Bowl ads don’t work, Athens mayor says Trump’s to blame for Laken Riley murder, Mitch McConnell steps down, NFL combine under way, CBB picks with prize picks<a href=\"https://t.co/SxcKEBVgRA\">https://t.co/SxcKEBVgRA</a></p>&mdash; Clay Travis (@ClayTravis) <a href=\"https://twitter.com/ClayTravis/status/1762931219560362107?ref_src=twsrc%5Etfw\">February 28, 2024</a></blockquote>\n",
              "<script async src=\"https://platform.twitter.com/widgets.js\" charset=\"utf-8\"></script>\n"
            ]
          },
          "metadata": {}
        }
      ]
    },
    {
      "cell_type": "markdown",
      "source": [
        "Under the tweet about Biden, you see a \"note\" authored by a Community Notes participant, a \"contributor.\" The note is meant to clarify the tweet, in this case pointing out that the president was taken for an ice cream after his appearance on Late Night with Seth Meyers.\n",
        "\n",
        "Anyone can apply for the Community Notes program, and once enrolled, you can write a note for any tweet you see. Again, for (flimsy) context, since the program started in 2022, there have been 45 notes about ice cream, and 11 of those involved Biden. Here's another.\n",
        "\n"
      ],
      "metadata": {
        "id": "jEK06ttH9AOZ"
      }
    },
    {
      "cell_type": "code",
      "source": [
        "%%HTML\n",
        "<blockquote class=\"twitter-tweet\"><p lang=\"en\" dir=\"ltr\">Dark Brandon: “If I want to eat an ice cream cone in Kyiv, I’ll eat an ice cream cone in Kyiv.” <a href=\"https://t.co/CeAfdMPWWC\">pic.twitter.com/CeAfdMPWWC</a></p>&mdash; Dead End (@RegimeChangeInc) <a href=\"https://twitter.com/RegimeChangeInc/status/1627699857463947264?ref_src=twsrc%5Etfw\">February 20, 2023</a></blockquote>\n",
        "<script async src=\"https://platform.twitter.com/widgets.js\" charset=\"utf-8\"></script>"
      ],
      "metadata": {
        "id": "ik6f9qoQ02zi",
        "outputId": "1235427b-9902-494b-c922-84be924f9b17",
        "colab": {
          "base_uri": "https://localhost:8080/",
          "height": 1000
        }
      },
      "execution_count": 2,
      "outputs": [
        {
          "output_type": "display_data",
          "data": {
            "text/plain": [
              "<IPython.core.display.HTML object>"
            ],
            "text/html": [
              "<blockquote class=\"twitter-tweet\"><p lang=\"en\" dir=\"ltr\">Dark Brandon: “If I want to eat an ice cream cone in Kyiv, I’ll eat an ice cream cone in Kyiv.” <a href=\"https://t.co/CeAfdMPWWC\">pic.twitter.com/CeAfdMPWWC</a></p>&mdash; Dead End (@RegimeChangeInc) <a href=\"https://twitter.com/RegimeChangeInc/status/1627699857463947264?ref_src=twsrc%5Etfw\">February 20, 2023</a></blockquote>\n",
              "<script async src=\"https://platform.twitter.com/widgets.js\" charset=\"utf-8\"></script>\n"
            ]
          },
          "metadata": {}
        }
      ]
    },
    {
      "cell_type": "markdown",
      "source": [
        "In this case, the tweet has an ID of `1627699857463947264`, the author RegimeChangeInc has an ID of `867194634736472067` and the note itself has an id `1628599268301840386`. (Yes, I'm emphasizing the IDs.)\n",
        "\n",
        "Anyone can become a contributor to the program. Well, you have to have been active for 6+ months, you can't have any recent rule violations and you have to have a verified phone number. It all that checks out,   sign up [here](http://twitter.com/i/flow/join-birdwatch)\n",
        "\n",
        "<img src=\"https://github.com/cocteau/Computational_Journalism_2024/blob/main/images/Screenshot%202024-02-29%20at%2011.19.48%20AM.png?raw=true\" width=300>\n",
        "<img src=\"https://github.com/cocteau/Computational_Journalism_2024/blob/main/images/Screenshot%202024-02-29%20at%2011.19.56%20AM.png?raw=true\" width=300>\n",
        "<br>\n",
        "\n",
        "<img src=\"https://github.com/cocteau/Computational_Journalism_2024/blob/main/images/Screenshot%202024-02-29%20at%2011.20.10%20AM.png?raw=true\" width=300>\n",
        "<img src=\"https://github.com/cocteau/Computational_Journalism_2024/blob/main/images/Screenshot%202024-02-29%20at%2011.20.18%20AM.png?raw=true\" width=300>\n",
        "\n",
        "And on the [X user guide describing the program](https://communitynotes.x.com/guide/en/about/introduction), they provide more context.\n",
        "\n",
        "\n",
        "<img src=\"https://github.com/cocteau/Computational_Journalism_2024/blob/main/images/Screenshot%202024-02-29%20at%2012.32.40%20PM.png?raw=true\" width=500>\n",
        "\n",
        "**Focus on the code**\n",
        "\n",
        "So code and data are available! Amazing! Let's start with the code. There were a lot of terms in the description of the program that need some kind of technical definition. Maybe the most important being that judgements about the visibility of notes depends on the actions of contributors with \"diverse perspectives.\"\n",
        "\n",
        "Here's a snippet from [a great explanation](https://vitalik.eth.limo/general/2023/08/16/communitynotes.html) of how the notes process works.\n",
        "\n",
        ">Once you are accepted, you can at first participate in rating existing notes as being \"helpful\" or not, and once you've made enough good ratings ([measured](https://communitynotes.twitter.com/guide/en/under-the-hood/contributor-scores) by seeing which ratings match with the final outcome for that note), you can also write notes of your own.\n",
        "<br><br>\n",
        "When you write a note, the note gets a score based on the reviews that it receives from other Community Notes members. These reviews can be thought of as being votes along a 3-point scale of `HELPFUL`, `SOMEWHAT_HELPFUL` and `NOT_HELPFUL`... Based on these reviews, a note gets a score. If the note's score is above [a threshold], the note is shown; otherwise, the note is not shown.\n",
        "<br><br>\n",
        "The way that the score is calculated is what makes the algorithm unique. Unlike simpler algorithms, which aim to simply calculate some kind of sum or average over users' ratings and use that as the final result, **the Community Notes rating algorithm explicitly attempts to prioritize notes that receive positive ratings from people across a diverse range of perspectives.** That is, if people who usually disagree on how they rate notes end up agreeing on a particular note, that note is scored especially highly.\n",
        "\n",
        "This is how the tweet by RegimeChangeInc about Biden in Kyiv received its note. Many tweets that have publicly visible notes end up disappearing. Funny that. You can see latest notes activity on this [X page](http://twitter.com/i/birdwatch).\n",
        "\n",
        "<img src=\"https://github.com/cocteau/Computational_Journalism_2024/blob/main/images/Screenshot%202024-02-27%20at%2012.51.44%20PM.png?raw=true\" width=500>\n",
        "\n",
        ">Let us get into the deep math of how this works. We have a set of users and a set of notes; we can create a matrix M, where the cell Mij represents how the i'th user rated the j'th note.\n",
        "<br>\n",
        "<img src=\"https://vitalik.eth.limo/images/communitynotes/matrix.png\" width=400>\n",
        "<br>\n",
        "For any given note, most users have not rated that note, so most entries in the matrix will be zero, but that's fine. The goal of the algorithm is to create a four-column model of users and notes, assigning each user two stats that we can call \"friendliness\" and \"polarity\", and each note two stats that we can call \"helpfulness\" and \"polarity\". The model is trying to predict the matrix as a function of these values, using the following formula:\n",
        "<br>\n",
        "<img src=\"https://vitalik.eth.limo/images/communitynotes/formula.png\" width=400>\n",
        "<br>\n",
        "Note that here I am introducing both the terminology used in the Birdwatch paper, and my own terms to provide a less mathematical intuition for what the variables mean:\n",
        "<br>\n",
        "* μ is a **\"general public mood\"** parameter that accounts for how high the ratings are that users give in general\n",
        "* iu is a user's **\"friendliness\"**: how likely that particular user is to give high ratings\n",
        "* in is a note's **\"helpfulness\"**: how likely that particular note is to get rated highly. **Ultimately, this is the variable we care about.**\n",
        "* fu or fn  is user or note's **\"polarity\"**: its position among the dominant axis of political polarization. In practice, negative polarity roughly means \"left-leaning\" and positive polarity means \"right-leaning\", but note that **the axis of polarization is discovered emergently from analyzing users and notes; the concepts of leftism and rightism are in no way hard-coded.**\n",
        "\n",
        ">**The core clever idea here is that the \"polarity\" terms absorb the properties of a note that cause it to be liked by some users and not others, and the \"helpfulness\" term only measures the properties that a note has that cause it to be liked by all.** Thus, selecting for helpfulness identifies notes that get cross-tribal approval, and selects against notes that get cheering from one tribe at the expense of disgust from the other tribe.\n",
        "\n",
        "\n",
        "\n",
        "\n",
        "\n",
        "\n",
        "\n",
        "\n",
        "\n",
        "\n",
        "**To the data!**\n",
        "\n",
        "Now, let's get back to the data. On the [Notes data site](https://twitter.com/i/birdwatch/download-data) you can find links to four kinds of data sets.\n",
        "\n",
        "\n",
        "+ **Notes** - These are context people provide for tweets\n",
        "+ **Ratings of Notes** - These score notes as being helpful or not\n",
        "+ **History of each Note** - After notes accumulate enough ratings they can be shown on X, providing a word of caution or a vote of confidence. This table tracks the progress of notes over time.\n",
        "+ **User Enrollment**  - A table with metadata about each user's enrollment state\n",
        "\n",
        "There is also a [guide to analyzing Notes data](https://twitter.com/i/birdwatch/download-data) that has a pointer to the data dictionary. To grab data for this drill, I went to [this page](https://twitter.com/i/communitynotes/download-data) and \"right clicked\" on the Notes data set. I copied the link to the data and pasted it in the `read_csv()` command below. Oh and the data are tab-separated so I added the argument `sep=\"\\t\"` to the `read_csv()` call."
      ],
      "metadata": {
        "id": "VtymX9Jf1z5c"
      }
    },
    {
      "cell_type": "code",
      "source": [
        "import pandas as pd\n",
        "\n",
        "# use set_option() to remove the limits from the number of columns\n",
        "# of a dataframe that can be shown and the number of characters in each cell\n",
        "pd.set_option('display.max_columns', None)\n",
        "pd.set_option('display.max_colwidth', None)\n",
        "\n",
        "# read in the notes and see what the columns are!\n",
        "notes = pd.read_csv(\"https://ton.twimg.com/birdwatch-public-data/2024/02/27/notes/notes-00000.tsv\",sep=\"\\t\")\n",
        "notes.columns"
      ],
      "metadata": {
        "id": "OyET-lTN-9ch",
        "outputId": "92012e41-bc8e-4e50-9136-fbb83d85b54d",
        "colab": {
          "base_uri": "https://localhost:8080/"
        }
      },
      "execution_count": 3,
      "outputs": [
        {
          "output_type": "stream",
          "name": "stderr",
          "text": [
            "<ipython-input-3-d4bd67b94081>:9: DtypeWarning: Columns (5,6,7) have mixed types. Specify dtype option on import or set low_memory=False.\n",
            "  notes = pd.read_csv(\"https://ton.twimg.com/birdwatch-public-data/2024/02/27/notes/notes-00000.tsv\",sep=\"\\t\")\n"
          ]
        },
        {
          "output_type": "execute_result",
          "data": {
            "text/plain": [
              "Index(['noteId', 'noteAuthorParticipantId', 'createdAtMillis', 'tweetId',\n",
              "       'classification', 'believable', 'harmful', 'validationDifficulty',\n",
              "       'misleadingOther', 'misleadingFactualError',\n",
              "       'misleadingManipulatedMedia', 'misleadingOutdatedInformation',\n",
              "       'misleadingMissingImportantContext', 'misleadingUnverifiedClaimAsFact',\n",
              "       'misleadingSatire', 'notMisleadingOther',\n",
              "       'notMisleadingFactuallyCorrect',\n",
              "       'notMisleadingOutdatedButNotWhenWritten', 'notMisleadingClearlySatire',\n",
              "       'notMisleadingPersonalOpinion', 'trustworthySources', 'summary',\n",
              "       'isMediaNote'],\n",
              "      dtype='object')"
            ]
          },
          "metadata": {},
          "execution_count": 3
        }
      ]
    },
    {
      "cell_type": "code",
      "source": [
        "notes.shape"
      ],
      "metadata": {
        "id": "mA-67MtrDRHB",
        "outputId": "e1537de7-102d-4965-b872-c5b345a0694e",
        "colab": {
          "base_uri": "https://localhost:8080/"
        }
      },
      "execution_count": 4,
      "outputs": [
        {
          "output_type": "execute_result",
          "data": {
            "text/plain": [
              "(610377, 23)"
            ]
          },
          "metadata": {},
          "execution_count": 4
        }
      ]
    },
    {
      "cell_type": "markdown",
      "source": [
        "That's a lot of notes!\n",
        "\n",
        "Let's look at the data. We are going to just focus on a couple columns, however, to keep things readable."
      ],
      "metadata": {
        "id": "5nfGTbrmo7Gn"
      }
    },
    {
      "cell_type": "code",
      "source": [
        "# have a look at some of the notes. i'm keeping just a few of the columns\n",
        "# to make things easier to read.\n",
        "\n",
        "notes[[\"classification\", \"summary\",\"noteAuthorParticipantId\",\"tweetId\",\"createdAtMillis\"]]"
      ],
      "metadata": {
        "id": "Ou2ElkPN_bhG",
        "outputId": "e1cee31c-1e3c-4771-a02c-d4a82999e19d",
        "colab": {
          "base_uri": "https://localhost:8080/",
          "height": 1000
        }
      },
      "execution_count": 5,
      "outputs": [
        {
          "output_type": "execute_result",
          "data": {
            "text/plain": [
              "                               classification  \\\n",
              "0       MISINFORMED_OR_POTENTIALLY_MISLEADING   \n",
              "1                              NOT_MISLEADING   \n",
              "2       MISINFORMED_OR_POTENTIALLY_MISLEADING   \n",
              "3       MISINFORMED_OR_POTENTIALLY_MISLEADING   \n",
              "4       MISINFORMED_OR_POTENTIALLY_MISLEADING   \n",
              "...                                       ...   \n",
              "610372  MISINFORMED_OR_POTENTIALLY_MISLEADING   \n",
              "610373  MISINFORMED_OR_POTENTIALLY_MISLEADING   \n",
              "610374  MISINFORMED_OR_POTENTIALLY_MISLEADING   \n",
              "610375  MISINFORMED_OR_POTENTIALLY_MISLEADING   \n",
              "610376  MISINFORMED_OR_POTENTIALLY_MISLEADING   \n",
              "\n",
              "                                                                                                                                                                                                                                                                                                                                                                                                                                                                                                                                                                                                                                                      summary  \\\n",
              "0                                                                                                                                    Forbes has a good rundown of the investigation and the Washington Post has a fuller picture of where the investigation is headed.     Gaetz seems to be deliberately misleading his readers about the timeline of any investigation with this tweet.    https://www.forbes.com/sites/rachelsandler/2021/03/30/gop-rep-matt-gaetz-reportedly-under-investigation-over-relationship-with-17-year-old-girl/?sh=7da3be1a23f4    https://www.washingtonpost.com/politics/2022/01/27/sex-trafficking-allegations-matt-gaetz/     \n",
              "1                                                                                                                                                                                                                                                                                                                                                                                                                                                                                                                                                            They are expressing a personal opinion in a straightforward manner. This should not need a note.   \n",
              "2                                                                                                                                                                                                                                                                                 Teslas purchased after 12/31/19 are not eligible for US Federal tax credits because they exceeded the initial 200K eligible cars allowed a credit. States like CA have their own programs that issue rebates or credits but many have ended as well due to higher Tesla prices. https://cleanvehiclerebate.org/en/faqs/can-i-apply-rebate-my-tesla-model-3-or-tesla-model-y   \n",
              "3                                                                                                                           The Jan 6th riots were encouraged by the sitting US President saying to his followers to &quot;stop the steal&quot; not just protest it. As well as laying groundwork well before.    https://www.nytimes.com/2021/01/10/us/trump-speech-riot.html    https://www.wsj.com/articles/trump-and-his-allies-set-the-stage-for-riot-well-before-january-6-11610156283    Four people in the crowd on Jan 6th died as well as five officers shortly after.     https://www.nytimes.com/2022/01/05/us/politics/jan-6-capitol-deaths.html   \n",
              "4                                                                                                                                                                                                                                                                                          The Committee has been found by numerous courts to be constitutional &amp; is not losing the interest of the American people. CNN reports &lt; 20M viewers tuned in to Thursday's presentation about the Jan 6 attack, and it reached a far larger number through social and others.    https://www.cnn.com/2022/06/10/media/ratings-january-6-hearings/index.html   \n",
              "...                                                                                                                                                                                                                                                                                                                                                                                                                                                                                                                                                                                                                                                       ...   \n",
              "610372                                                                                                                                                                                                                                                                                                                                                                                                                                                                 Non è possibile donare spunte blu a meno che non si tratti di organizzazioni verificate (ma non è questo il caso). È un imbroglio per ottenere più interazioni.  business.twitter.com    \n",
              "610373                                                                                                                                                                                                                                                                                                                                                                                                                                      Non è possibile donare spunte blu, a meno che non si tratti di un'organizzazione verifica, ma non è questo il caso. Questa truffa sta girando per far sì che si ottengano più interazioni.  verified twitter.com    \n",
              "610374  PTI is the largest political party in the country that represents the people of Pakistan &amp; has made every effort to ensure people's stolen mandate is restored. Such tweets are spread to make people feel helpless &amp; hopeless &amp; shouldn't be tolerated in this platform.     https://www.reuters.com/world/asia-pacific/pakistans-imran-khan-backed-candidates-join-sunni-party-interim-party-chief-2024-02-19/    https://x.com/PTIofficial/status/1758145839392760000?s=20    https://foreignpolicy.com/2024/02/14/pakistan-elections-pti-imran-khan-upset-military/    https://x.com/WorldTimesWT/status/1756705625260609895?s=20       \n",
              "610375                                                                                                                                                                                                                                                                                                                                                                                                                     This X account with a Government Official badge isn't a government official and uses this platform to spread lies and misinformation.    Link to reference X account where this news is not available. https://x.com/siasatpk?s=20   \n",
              "610376                                                                                                                                                                                                                                                                                                                                                                                                                                           This is a WEB 3.0 (Crypto, nft) ad.  Be warned that this could be a scam.  Also this might be not licensed by Lego themselves.    https://consumer.ftc.gov/articles/what-know-about-cryptocurrency-and-scams   \n",
              "\n",
              "                                                 noteAuthorParticipantId  \\\n",
              "0       5684B38EB58FD8BE75ABA37F0BE040EC70380B002ADF9DBDE2415CB32782EAEE   \n",
              "1       5684B38EB58FD8BE75ABA37F0BE040EC70380B002ADF9DBDE2415CB32782EAEE   \n",
              "2       5684B38EB58FD8BE75ABA37F0BE040EC70380B002ADF9DBDE2415CB32782EAEE   \n",
              "3       5684B38EB58FD8BE75ABA37F0BE040EC70380B002ADF9DBDE2415CB32782EAEE   \n",
              "4       5684B38EB58FD8BE75ABA37F0BE040EC70380B002ADF9DBDE2415CB32782EAEE   \n",
              "...                                                                  ...   \n",
              "610372  AD436976FE2B66492611D4E08E5CCA144AFADF4FFD055ECD600990C0C8C8D2B9   \n",
              "610373  AD436976FE2B66492611D4E08E5CCA144AFADF4FFD055ECD600990C0C8C8D2B9   \n",
              "610374  7DEFE4FA6920E805F21609ACE16DD20D6531E932D6728B7DC78F89D3445F625C   \n",
              "610375  7DEFE4FA6920E805F21609ACE16DD20D6531E932D6728B7DC78F89D3445F625C   \n",
              "610376  BAAA2E8419D100B1ECC54C23789AC50686286EEEA716961E0025D2673A37DA08   \n",
              "\n",
              "                    tweetId  createdAtMillis  \n",
              "0       1377030478167937024    1655318404027  \n",
              "1       1536848327979016193    1655318986910  \n",
              "2       1537080831751102467    1655319460217  \n",
              "3       1537196168953974784    1655333070821  \n",
              "4       1540087463099736065    1656100269455  \n",
              "...                     ...              ...  \n",
              "610372  1759624449886650695    1708522396933  \n",
              "610373  1759647844204433719    1708757238434  \n",
              "610374  1759847303576449044    1708425361022  \n",
              "610375  1759790742002700290    1708437272550  \n",
              "610376  1760643652605403262    1708674872191  \n",
              "\n",
              "[610377 rows x 5 columns]"
            ],
            "text/html": [
              "\n",
              "  <div id=\"df-743f0ece-9674-455f-a06d-57fef5f478e3\" class=\"colab-df-container\">\n",
              "    <div>\n",
              "<style scoped>\n",
              "    .dataframe tbody tr th:only-of-type {\n",
              "        vertical-align: middle;\n",
              "    }\n",
              "\n",
              "    .dataframe tbody tr th {\n",
              "        vertical-align: top;\n",
              "    }\n",
              "\n",
              "    .dataframe thead th {\n",
              "        text-align: right;\n",
              "    }\n",
              "</style>\n",
              "<table border=\"1\" class=\"dataframe\">\n",
              "  <thead>\n",
              "    <tr style=\"text-align: right;\">\n",
              "      <th></th>\n",
              "      <th>classification</th>\n",
              "      <th>summary</th>\n",
              "      <th>noteAuthorParticipantId</th>\n",
              "      <th>tweetId</th>\n",
              "      <th>createdAtMillis</th>\n",
              "    </tr>\n",
              "  </thead>\n",
              "  <tbody>\n",
              "    <tr>\n",
              "      <th>0</th>\n",
              "      <td>MISINFORMED_OR_POTENTIALLY_MISLEADING</td>\n",
              "      <td>Forbes has a good rundown of the investigation and the Washington Post has a fuller picture of where the investigation is headed.     Gaetz seems to be deliberately misleading his readers about the timeline of any investigation with this tweet.    https://www.forbes.com/sites/rachelsandler/2021/03/30/gop-rep-matt-gaetz-reportedly-under-investigation-over-relationship-with-17-year-old-girl/?sh=7da3be1a23f4    https://www.washingtonpost.com/politics/2022/01/27/sex-trafficking-allegations-matt-gaetz/</td>\n",
              "      <td>5684B38EB58FD8BE75ABA37F0BE040EC70380B002ADF9DBDE2415CB32782EAEE</td>\n",
              "      <td>1377030478167937024</td>\n",
              "      <td>1655318404027</td>\n",
              "    </tr>\n",
              "    <tr>\n",
              "      <th>1</th>\n",
              "      <td>NOT_MISLEADING</td>\n",
              "      <td>They are expressing a personal opinion in a straightforward manner. This should not need a note.</td>\n",
              "      <td>5684B38EB58FD8BE75ABA37F0BE040EC70380B002ADF9DBDE2415CB32782EAEE</td>\n",
              "      <td>1536848327979016193</td>\n",
              "      <td>1655318986910</td>\n",
              "    </tr>\n",
              "    <tr>\n",
              "      <th>2</th>\n",
              "      <td>MISINFORMED_OR_POTENTIALLY_MISLEADING</td>\n",
              "      <td>Teslas purchased after 12/31/19 are not eligible for US Federal tax credits because they exceeded the initial 200K eligible cars allowed a credit. States like CA have their own programs that issue rebates or credits but many have ended as well due to higher Tesla prices. https://cleanvehiclerebate.org/en/faqs/can-i-apply-rebate-my-tesla-model-3-or-tesla-model-y</td>\n",
              "      <td>5684B38EB58FD8BE75ABA37F0BE040EC70380B002ADF9DBDE2415CB32782EAEE</td>\n",
              "      <td>1537080831751102467</td>\n",
              "      <td>1655319460217</td>\n",
              "    </tr>\n",
              "    <tr>\n",
              "      <th>3</th>\n",
              "      <td>MISINFORMED_OR_POTENTIALLY_MISLEADING</td>\n",
              "      <td>The Jan 6th riots were encouraged by the sitting US President saying to his followers to &amp;quot;stop the steal&amp;quot; not just protest it. As well as laying groundwork well before.    https://www.nytimes.com/2021/01/10/us/trump-speech-riot.html    https://www.wsj.com/articles/trump-and-his-allies-set-the-stage-for-riot-well-before-january-6-11610156283    Four people in the crowd on Jan 6th died as well as five officers shortly after.     https://www.nytimes.com/2022/01/05/us/politics/jan-6-capitol-deaths.html</td>\n",
              "      <td>5684B38EB58FD8BE75ABA37F0BE040EC70380B002ADF9DBDE2415CB32782EAEE</td>\n",
              "      <td>1537196168953974784</td>\n",
              "      <td>1655333070821</td>\n",
              "    </tr>\n",
              "    <tr>\n",
              "      <th>4</th>\n",
              "      <td>MISINFORMED_OR_POTENTIALLY_MISLEADING</td>\n",
              "      <td>The Committee has been found by numerous courts to be constitutional &amp;amp; is not losing the interest of the American people. CNN reports &amp;lt; 20M viewers tuned in to Thursday's presentation about the Jan 6 attack, and it reached a far larger number through social and others.    https://www.cnn.com/2022/06/10/media/ratings-january-6-hearings/index.html</td>\n",
              "      <td>5684B38EB58FD8BE75ABA37F0BE040EC70380B002ADF9DBDE2415CB32782EAEE</td>\n",
              "      <td>1540087463099736065</td>\n",
              "      <td>1656100269455</td>\n",
              "    </tr>\n",
              "    <tr>\n",
              "      <th>...</th>\n",
              "      <td>...</td>\n",
              "      <td>...</td>\n",
              "      <td>...</td>\n",
              "      <td>...</td>\n",
              "      <td>...</td>\n",
              "    </tr>\n",
              "    <tr>\n",
              "      <th>610372</th>\n",
              "      <td>MISINFORMED_OR_POTENTIALLY_MISLEADING</td>\n",
              "      <td>Non è possibile donare spunte blu a meno che non si tratti di organizzazioni verificate (ma non è questo il caso). È un imbroglio per ottenere più interazioni.  business.twitter.com</td>\n",
              "      <td>AD436976FE2B66492611D4E08E5CCA144AFADF4FFD055ECD600990C0C8C8D2B9</td>\n",
              "      <td>1759624449886650695</td>\n",
              "      <td>1708522396933</td>\n",
              "    </tr>\n",
              "    <tr>\n",
              "      <th>610373</th>\n",
              "      <td>MISINFORMED_OR_POTENTIALLY_MISLEADING</td>\n",
              "      <td>Non è possibile donare spunte blu, a meno che non si tratti di un'organizzazione verifica, ma non è questo il caso. Questa truffa sta girando per far sì che si ottengano più interazioni.  verified twitter.com</td>\n",
              "      <td>AD436976FE2B66492611D4E08E5CCA144AFADF4FFD055ECD600990C0C8C8D2B9</td>\n",
              "      <td>1759647844204433719</td>\n",
              "      <td>1708757238434</td>\n",
              "    </tr>\n",
              "    <tr>\n",
              "      <th>610374</th>\n",
              "      <td>MISINFORMED_OR_POTENTIALLY_MISLEADING</td>\n",
              "      <td>PTI is the largest political party in the country that represents the people of Pakistan &amp;amp; has made every effort to ensure people's stolen mandate is restored. Such tweets are spread to make people feel helpless &amp;amp; hopeless &amp;amp; shouldn't be tolerated in this platform.     https://www.reuters.com/world/asia-pacific/pakistans-imran-khan-backed-candidates-join-sunni-party-interim-party-chief-2024-02-19/    https://x.com/PTIofficial/status/1758145839392760000?s=20    https://foreignpolicy.com/2024/02/14/pakistan-elections-pti-imran-khan-upset-military/    https://x.com/WorldTimesWT/status/1756705625260609895?s=20</td>\n",
              "      <td>7DEFE4FA6920E805F21609ACE16DD20D6531E932D6728B7DC78F89D3445F625C</td>\n",
              "      <td>1759847303576449044</td>\n",
              "      <td>1708425361022</td>\n",
              "    </tr>\n",
              "    <tr>\n",
              "      <th>610375</th>\n",
              "      <td>MISINFORMED_OR_POTENTIALLY_MISLEADING</td>\n",
              "      <td>This X account with a Government Official badge isn't a government official and uses this platform to spread lies and misinformation.    Link to reference X account where this news is not available. https://x.com/siasatpk?s=20</td>\n",
              "      <td>7DEFE4FA6920E805F21609ACE16DD20D6531E932D6728B7DC78F89D3445F625C</td>\n",
              "      <td>1759790742002700290</td>\n",
              "      <td>1708437272550</td>\n",
              "    </tr>\n",
              "    <tr>\n",
              "      <th>610376</th>\n",
              "      <td>MISINFORMED_OR_POTENTIALLY_MISLEADING</td>\n",
              "      <td>This is a WEB 3.0 (Crypto, nft) ad.  Be warned that this could be a scam.  Also this might be not licensed by Lego themselves.    https://consumer.ftc.gov/articles/what-know-about-cryptocurrency-and-scams</td>\n",
              "      <td>BAAA2E8419D100B1ECC54C23789AC50686286EEEA716961E0025D2673A37DA08</td>\n",
              "      <td>1760643652605403262</td>\n",
              "      <td>1708674872191</td>\n",
              "    </tr>\n",
              "  </tbody>\n",
              "</table>\n",
              "<p>610377 rows × 5 columns</p>\n",
              "</div>\n",
              "    <div class=\"colab-df-buttons\">\n",
              "\n",
              "  <div class=\"colab-df-container\">\n",
              "    <button class=\"colab-df-convert\" onclick=\"convertToInteractive('df-743f0ece-9674-455f-a06d-57fef5f478e3')\"\n",
              "            title=\"Convert this dataframe to an interactive table.\"\n",
              "            style=\"display:none;\">\n",
              "\n",
              "  <svg xmlns=\"http://www.w3.org/2000/svg\" height=\"24px\" viewBox=\"0 -960 960 960\">\n",
              "    <path d=\"M120-120v-720h720v720H120Zm60-500h600v-160H180v160Zm220 220h160v-160H400v160Zm0 220h160v-160H400v160ZM180-400h160v-160H180v160Zm440 0h160v-160H620v160ZM180-180h160v-160H180v160Zm440 0h160v-160H620v160Z\"/>\n",
              "  </svg>\n",
              "    </button>\n",
              "\n",
              "  <style>\n",
              "    .colab-df-container {\n",
              "      display:flex;\n",
              "      gap: 12px;\n",
              "    }\n",
              "\n",
              "    .colab-df-convert {\n",
              "      background-color: #E8F0FE;\n",
              "      border: none;\n",
              "      border-radius: 50%;\n",
              "      cursor: pointer;\n",
              "      display: none;\n",
              "      fill: #1967D2;\n",
              "      height: 32px;\n",
              "      padding: 0 0 0 0;\n",
              "      width: 32px;\n",
              "    }\n",
              "\n",
              "    .colab-df-convert:hover {\n",
              "      background-color: #E2EBFA;\n",
              "      box-shadow: 0px 1px 2px rgba(60, 64, 67, 0.3), 0px 1px 3px 1px rgba(60, 64, 67, 0.15);\n",
              "      fill: #174EA6;\n",
              "    }\n",
              "\n",
              "    .colab-df-buttons div {\n",
              "      margin-bottom: 4px;\n",
              "    }\n",
              "\n",
              "    [theme=dark] .colab-df-convert {\n",
              "      background-color: #3B4455;\n",
              "      fill: #D2E3FC;\n",
              "    }\n",
              "\n",
              "    [theme=dark] .colab-df-convert:hover {\n",
              "      background-color: #434B5C;\n",
              "      box-shadow: 0px 1px 3px 1px rgba(0, 0, 0, 0.15);\n",
              "      filter: drop-shadow(0px 1px 2px rgba(0, 0, 0, 0.3));\n",
              "      fill: #FFFFFF;\n",
              "    }\n",
              "  </style>\n",
              "\n",
              "    <script>\n",
              "      const buttonEl =\n",
              "        document.querySelector('#df-743f0ece-9674-455f-a06d-57fef5f478e3 button.colab-df-convert');\n",
              "      buttonEl.style.display =\n",
              "        google.colab.kernel.accessAllowed ? 'block' : 'none';\n",
              "\n",
              "      async function convertToInteractive(key) {\n",
              "        const element = document.querySelector('#df-743f0ece-9674-455f-a06d-57fef5f478e3');\n",
              "        const dataTable =\n",
              "          await google.colab.kernel.invokeFunction('convertToInteractive',\n",
              "                                                    [key], {});\n",
              "        if (!dataTable) return;\n",
              "\n",
              "        const docLinkHtml = 'Like what you see? Visit the ' +\n",
              "          '<a target=\"_blank\" href=https://colab.research.google.com/notebooks/data_table.ipynb>data table notebook</a>'\n",
              "          + ' to learn more about interactive tables.';\n",
              "        element.innerHTML = '';\n",
              "        dataTable['output_type'] = 'display_data';\n",
              "        await google.colab.output.renderOutput(dataTable, element);\n",
              "        const docLink = document.createElement('div');\n",
              "        docLink.innerHTML = docLinkHtml;\n",
              "        element.appendChild(docLink);\n",
              "      }\n",
              "    </script>\n",
              "  </div>\n",
              "\n",
              "\n",
              "<div id=\"df-5b8f858e-6db8-48b7-a488-784f0b00fe4b\">\n",
              "  <button class=\"colab-df-quickchart\" onclick=\"quickchart('df-5b8f858e-6db8-48b7-a488-784f0b00fe4b')\"\n",
              "            title=\"Suggest charts\"\n",
              "            style=\"display:none;\">\n",
              "\n",
              "<svg xmlns=\"http://www.w3.org/2000/svg\" height=\"24px\"viewBox=\"0 0 24 24\"\n",
              "     width=\"24px\">\n",
              "    <g>\n",
              "        <path d=\"M19 3H5c-1.1 0-2 .9-2 2v14c0 1.1.9 2 2 2h14c1.1 0 2-.9 2-2V5c0-1.1-.9-2-2-2zM9 17H7v-7h2v7zm4 0h-2V7h2v10zm4 0h-2v-4h2v4z\"/>\n",
              "    </g>\n",
              "</svg>\n",
              "  </button>\n",
              "\n",
              "<style>\n",
              "  .colab-df-quickchart {\n",
              "      --bg-color: #E8F0FE;\n",
              "      --fill-color: #1967D2;\n",
              "      --hover-bg-color: #E2EBFA;\n",
              "      --hover-fill-color: #174EA6;\n",
              "      --disabled-fill-color: #AAA;\n",
              "      --disabled-bg-color: #DDD;\n",
              "  }\n",
              "\n",
              "  [theme=dark] .colab-df-quickchart {\n",
              "      --bg-color: #3B4455;\n",
              "      --fill-color: #D2E3FC;\n",
              "      --hover-bg-color: #434B5C;\n",
              "      --hover-fill-color: #FFFFFF;\n",
              "      --disabled-bg-color: #3B4455;\n",
              "      --disabled-fill-color: #666;\n",
              "  }\n",
              "\n",
              "  .colab-df-quickchart {\n",
              "    background-color: var(--bg-color);\n",
              "    border: none;\n",
              "    border-radius: 50%;\n",
              "    cursor: pointer;\n",
              "    display: none;\n",
              "    fill: var(--fill-color);\n",
              "    height: 32px;\n",
              "    padding: 0;\n",
              "    width: 32px;\n",
              "  }\n",
              "\n",
              "  .colab-df-quickchart:hover {\n",
              "    background-color: var(--hover-bg-color);\n",
              "    box-shadow: 0 1px 2px rgba(60, 64, 67, 0.3), 0 1px 3px 1px rgba(60, 64, 67, 0.15);\n",
              "    fill: var(--button-hover-fill-color);\n",
              "  }\n",
              "\n",
              "  .colab-df-quickchart-complete:disabled,\n",
              "  .colab-df-quickchart-complete:disabled:hover {\n",
              "    background-color: var(--disabled-bg-color);\n",
              "    fill: var(--disabled-fill-color);\n",
              "    box-shadow: none;\n",
              "  }\n",
              "\n",
              "  .colab-df-spinner {\n",
              "    border: 2px solid var(--fill-color);\n",
              "    border-color: transparent;\n",
              "    border-bottom-color: var(--fill-color);\n",
              "    animation:\n",
              "      spin 1s steps(1) infinite;\n",
              "  }\n",
              "\n",
              "  @keyframes spin {\n",
              "    0% {\n",
              "      border-color: transparent;\n",
              "      border-bottom-color: var(--fill-color);\n",
              "      border-left-color: var(--fill-color);\n",
              "    }\n",
              "    20% {\n",
              "      border-color: transparent;\n",
              "      border-left-color: var(--fill-color);\n",
              "      border-top-color: var(--fill-color);\n",
              "    }\n",
              "    30% {\n",
              "      border-color: transparent;\n",
              "      border-left-color: var(--fill-color);\n",
              "      border-top-color: var(--fill-color);\n",
              "      border-right-color: var(--fill-color);\n",
              "    }\n",
              "    40% {\n",
              "      border-color: transparent;\n",
              "      border-right-color: var(--fill-color);\n",
              "      border-top-color: var(--fill-color);\n",
              "    }\n",
              "    60% {\n",
              "      border-color: transparent;\n",
              "      border-right-color: var(--fill-color);\n",
              "    }\n",
              "    80% {\n",
              "      border-color: transparent;\n",
              "      border-right-color: var(--fill-color);\n",
              "      border-bottom-color: var(--fill-color);\n",
              "    }\n",
              "    90% {\n",
              "      border-color: transparent;\n",
              "      border-bottom-color: var(--fill-color);\n",
              "    }\n",
              "  }\n",
              "</style>\n",
              "\n",
              "  <script>\n",
              "    async function quickchart(key) {\n",
              "      const quickchartButtonEl =\n",
              "        document.querySelector('#' + key + ' button');\n",
              "      quickchartButtonEl.disabled = true;  // To prevent multiple clicks.\n",
              "      quickchartButtonEl.classList.add('colab-df-spinner');\n",
              "      try {\n",
              "        const charts = await google.colab.kernel.invokeFunction(\n",
              "            'suggestCharts', [key], {});\n",
              "      } catch (error) {\n",
              "        console.error('Error during call to suggestCharts:', error);\n",
              "      }\n",
              "      quickchartButtonEl.classList.remove('colab-df-spinner');\n",
              "      quickchartButtonEl.classList.add('colab-df-quickchart-complete');\n",
              "    }\n",
              "    (() => {\n",
              "      let quickchartButtonEl =\n",
              "        document.querySelector('#df-5b8f858e-6db8-48b7-a488-784f0b00fe4b button');\n",
              "      quickchartButtonEl.style.display =\n",
              "        google.colab.kernel.accessAllowed ? 'block' : 'none';\n",
              "    })();\n",
              "  </script>\n",
              "</div>\n",
              "    </div>\n",
              "  </div>\n"
            ],
            "application/vnd.google.colaboratory.intrinsic+json": {
              "type": "dataframe"
            }
          },
          "metadata": {},
          "execution_count": 5
        }
      ]
    },
    {
      "cell_type": "markdown",
      "source": [
        "The [data dictionary](https://communitynotes.x.com/guide/en/under-the-hood/download-data) explains that the `classification` of a note is selected by it's author to indicate whether the tweet they are commenting on is \"NOT MISLEADING\" or \"MISINFORMED OR POTENTIALLY MISLEADING\". The texts of the notes is given in the column `summary` and its author is specified by the `participantId`. This is not a person's X ID, but another unique identifier that is unique to them within the Notes universe. The `tweetId` on the other hand specifies the unique tweet ID we looked at above. You can see a tweet by  adding the ID to this URL...\n",
        "\n",
        "\n",
        "```\n",
        "http://twitter.com/anyuser/status/\n",
        "```\n",
        "\n",
        "For example, to see the tweet referenced in the first row of the dataframe, the tweet with `tweetID` `1377030478167937024`, you can enter the URL\n",
        "\n",
        "```\n",
        "http://twitter.com/anyuser/status/1377030478167937024\n",
        "```\n",
        "\n",
        "into your browser. Finally, the `createdAtMillis` column gives you date and time the note was created. As mentioned in class, this represents the number of milliseconds since midnight on January 1, 1970, the so-called Unix Epoch. (We've seen that before.)\n",
        "\n",
        "Now, back to the data.\n",
        "\n",
        "**1. Each note is written by one Community Notes participant. But a participant might write many notes. How many notes did the most prolific participant create?**\n",
        "\n",
        "**2. Each note is about only one tweet, but there can be many notes about the same tweet. Which tweet had the most notes? What was it about?**"
      ],
      "metadata": {
        "id": "eOk07U3Wojg1"
      }
    },
    {
      "cell_type": "code",
      "source": [
        "# some exploratory here\n",
        "\n"
      ],
      "metadata": {
        "id": "0dTfmYVNHPvx"
      },
      "execution_count": null,
      "outputs": []
    },
    {
      "cell_type": "markdown",
      "source": [
        "This work is going to get interesting if we can bring in the  text of each note as well as it's `summary`. It is irresistable data. What kinds of words tend to be used in flagged tweets? What kinds of comments are seen as helpful?\n",
        "\n",
        "Starting slowly, in our first class we saw that string objects had certain methods they like `.upper()`. We can invoke methods like these on all the strings in a column of a DataFrame by using `.str` after the column name.\n",
        "\n",
        "Here, we turn the summaries uppercase. We call the new Series `caps`."
      ],
      "metadata": {
        "id": "GGR95DkiHcba"
      }
    },
    {
      "cell_type": "code",
      "source": [
        "caps = notes[\"summary\"].str.upper()\n",
        "caps"
      ],
      "metadata": {
        "id": "FOFJrFdmpfYA"
      },
      "execution_count": null,
      "outputs": []
    },
    {
      "cell_type": "markdown",
      "source": [
        "If we wanted to count the occurrences of \"LGBTQ\" we could create a `True`/`False` column, `True` if the summary contains \"LGBTQ\" and `False` otherwise.  The Series `caps` is again made up of strings so we can use the string method `.contains()` to test for COVID. We'll call the new  Series `lgbtq`."
      ],
      "metadata": {
        "id": "NR1Hy_yipq6F"
      }
    },
    {
      "cell_type": "code",
      "source": [
        "lgbtq = caps.str.contains(\"LGBTQ\")\n",
        "lgbtq"
      ],
      "metadata": {
        "id": "dmtuUHe8pjgm"
      },
      "execution_count": null,
      "outputs": []
    },
    {
      "cell_type": "markdown",
      "source": [
        "We can then create a count using `.value_counts()` ..."
      ],
      "metadata": {
        "id": "2ddoDg5HqNQw"
      }
    },
    {
      "cell_type": "code",
      "source": [
        "lgbtq.value_counts()"
      ],
      "metadata": {
        "id": "hm7RJ18yrJaY"
      },
      "execution_count": null,
      "outputs": []
    },
    {
      "cell_type": "markdown",
      "source": [
        "... or by even just adding up the logical data, with `True` becoming 1 and `False` becoming 0."
      ],
      "metadata": {
        "id": "Kl3TdJVQqY_9"
      }
    },
    {
      "cell_type": "code",
      "source": [
        "lgbtq.sum()"
      ],
      "metadata": {
        "id": "QlwcgrxpqdaB"
      },
      "execution_count": null,
      "outputs": []
    },
    {
      "cell_type": "markdown",
      "source": [
        "If we wanted to, we could do this all in one line... This is either super exciting or really off-putting. It's about readability. There are lots of ways to ask Python for a computation, and you'd like to make your code understandable by others.\n",
        "\n",
        "Fun fact -- the person most likely to be confused by your code is you, six months from now."
      ],
      "metadata": {
        "id": "EsVNDsberPND"
      }
    },
    {
      "cell_type": "code",
      "source": [
        "notes[\"summary\"].str.upper().str.contains(\"LGBTQ\").sum()"
      ],
      "metadata": {
        "id": "qHPTV512rTyE"
      },
      "execution_count": null,
      "outputs": []
    },
    {
      "cell_type": "markdown",
      "source": [
        "**3. Fill out the COVID topic with other keywords and look for their presence in the summaries. Or try another topic altogether.**"
      ],
      "metadata": {
        "id": "LuHVhgIdqtPA"
      }
    },
    {
      "cell_type": "code",
      "source": [
        "# your code here\n",
        "\n"
      ],
      "metadata": {
        "id": "ovw3ORulquFk"
      },
      "execution_count": null,
      "outputs": []
    },
    {
      "cell_type": "markdown",
      "source": [
        "A comment on dates. As we mentioned in class, the `createdAtMillis` represents the time a note was created. But it measures time in terms of time since an epoch. This is a different way of thinking about time. We have seens  days of the form M/D/Y...\n",
        "\n",
        "<pre>\n",
        "02/27/2024\n",
        "02/10/2024\n",
        "01/28/2024\n",
        "12/31/2023\n",
        "</pre>\n",
        "\n",
        "... and Y-M-D.\n",
        "\n",
        "<pre>\n",
        "2024-02-01\n",
        "2024-02-01\n",
        "2024-02-15\n",
        "2024-02-15\n",
        "2024-02-22\n",
        "</pre>\n",
        "\n",
        "Is there any difference? What is easy to do with these two formats and what is hard? Recall our discussion in class.\n",
        "\n",
        "Now instead of these two formats, the `notes` DataFrame has dates that look like large numbers. They record seconds since the Unix Epoch, or midnight January 1, 1970. Yes, that's arbitrary, but any epoch will do -- everything after is represented as positive milliseconds since the epoch, and everything before takes on negative values.\n",
        "\n",
        "<pre>\n",
        "1655318404027\n",
        "1655318986910\n",
        "1655319460217\n",
        "1655333070821\n",
        "1656100269455\n",
        "</pre>\n",
        "\n",
        "Or with a little effort, here's what these numbers translate to in terms of dates and times.\n",
        "\n",
        "```\n",
        "Epoch date      Human-readable date (GMT)\n",
        "1655318404027   2022-06-15 18:40:04.027\n",
        "1655318986910   2022-06-15 18:49:46.910\n",
        "1655319460217   2022-06-15 18:57:40.217\n",
        "1655333070821   2022-06-15 22:44:30.821\n",
        "1656100269455   2022-06-24 19:51:09.455\n",
        "```\n",
        "\n",
        "Again, recall our discussion in class. What does the numeric representation on the left provide that the symbolic representation on the right does not?\n",
        "<br>\n",
        "<br>\n",
        "\n",
        "<img src=\"https://github.com/cocteau/Computational_Journalism_2024/blob/main/images/Screenshot%202024-02-27%20at%203.01.59%20PM.png?raw=true\" width=200>\n",
        "<br>\n",
        "<br>\n",
        "\n",
        "We can convert the milliseconds `createdAtMillis` to a readable \"datetime\" object using a function inside pandas called (predictably enough) `to_datetime()`. Here's how we might use it.\n",
        "\n",
        "The code below creates a new column called `createdAtDatetime`. You can see it by scrolling the display below all the way to the right."
      ],
      "metadata": {
        "id": "uB7m1tn3G-R8"
      }
    },
    {
      "cell_type": "code",
      "source": [
        "import pandas as pd\n",
        "# here we convert the millisecond column, making sure\n",
        "# to tell the program our big numbers are in milliseconds\n",
        "# (and not just plain seconds, say)\n",
        "\n",
        "# add a new column called `datetime` and look for it at the right of the display.\n",
        "# We use the argument unit=\"ms\" to specify our data are milliseconds since\n",
        "# the Unix Epoch\n",
        "notes[\"createdAtDatetime\"] = pd.to_datetime(notes[\"createdAtMillis\"],unit=\"ms\")\n",
        "notes[\"createdAtDatetime\"]"
      ],
      "metadata": {
        "id": "JjXE4DjJLR5Z"
      },
      "execution_count": null,
      "outputs": []
    },
    {
      "cell_type": "code",
      "source": [
        "# have another look at some of the notes. again, i'm keeping just a few of the columns\n",
        "# to make things easier to read.\n",
        "\n",
        "notes[[\"classification\", \"summary\",\"noteAuthorParticipantId\",\"tweetId\",\"createdAtDatetime\"]]"
      ],
      "metadata": {
        "id": "ZpNX07N0EEbC"
      },
      "execution_count": null,
      "outputs": []
    },
    {
      "cell_type": "markdown",
      "source": [
        "The new column holds data of type `datetime`. A datetime object has lots of methods and data associated with it. In a DataFrame, you can get access to these  by explicitly inserting a `.dt` after your `createdAtDatetime` column. As we have seen, the same thing holds if you have a column of `str` or string objects, and we used `.str` in front of any of the string methods you learned like `.upper()`.\n",
        "\n",
        "Here we pull out parts of the date and time a note was created."
      ],
      "metadata": {
        "id": "65OuefNuXVnl"
      }
    },
    {
      "cell_type": "code",
      "source": [
        "# create a column of the months for each note\n",
        "notes[\"createdAtDatetime\"].dt.month"
      ],
      "metadata": {
        "id": "62Oaygw5Wi7d"
      },
      "execution_count": null,
      "outputs": []
    },
    {
      "cell_type": "code",
      "source": [
        "# create a column for the hours for each note\n",
        "notes[\"createdAtDatetime\"].dt.hour"
      ],
      "metadata": {
        "id": "GE7YjzvDWmhQ"
      },
      "execution_count": null,
      "outputs": []
    },
    {
      "cell_type": "markdown",
      "source": [
        "The `.date` attribute of a `datetime` object holds the calendar date (Y-M-D), dropping the time component."
      ],
      "metadata": {
        "id": "UzckyJFPYPZH"
      }
    },
    {
      "cell_type": "code",
      "source": [
        "notes[\"createdAtDatetime\"].dt.date"
      ],
      "metadata": {
        "id": "WMNtxlS5fM4b"
      },
      "execution_count": null,
      "outputs": []
    },
    {
      "cell_type": "markdown",
      "source": [
        "Let's use this last expression to create a column called `\"date\"` in `notes` to hold just the day each note was created. This way we can make simple counts of notes per day to judge how active the Community guardians are."
      ],
      "metadata": {
        "id": "SFml9nisfNc3"
      }
    },
    {
      "cell_type": "code",
      "source": [
        "# if we just want the day the note was posted and not the time, we\n",
        "# can access the datetime methods using .dt -- here we pull the calendar date\n",
        "# the note was created. We use the \"unit\" of \"ms\" to indicate our big number\n",
        "# is counting milliseconds since the epoch\n",
        "notes[\"date\"] = notes[\"createdAtDatetime\"].dt.date\n",
        "notes.head()"
      ],
      "metadata": {
        "id": "DEBT0SRaV01W"
      },
      "execution_count": null,
      "outputs": []
    },
    {
      "cell_type": "markdown",
      "source": [
        "\n",
        "Let's have a closer look again."
      ],
      "metadata": {
        "id": "IM1aOcEyDXH7"
      }
    },
    {
      "cell_type": "code",
      "source": [
        "notes[[\"summary\",\"classification\",\"noteAuthorParticipantId\",\"tweetId\",\"date\"]]"
      ],
      "metadata": {
        "id": "uYgxK8FIN8jU"
      },
      "execution_count": null,
      "outputs": []
    },
    {
      "cell_type": "markdown",
      "source": [
        "Now let's count notes per day. Is there an increase in the use of (what was) Birdwatch since Musk took over the company? Let's introduce a new friend `groupby()` to group the notes data by day and then count how many we have per day. Then we'll make a barplot, one bar per day, the heights recording the number of notes introduced on that day."
      ],
      "metadata": {
        "id": "vIU62XRmYdq8"
      }
    },
    {
      "cell_type": "code",
      "source": [
        "perday = notes.groupby(\"date\",as_index=False)[\"noteId\"].count()\n",
        "perday"
      ],
      "metadata": {
        "id": "BYZIG7GOOUOC"
      },
      "execution_count": null,
      "outputs": []
    },
    {
      "cell_type": "code",
      "source": [
        "from plotly.express import bar\n",
        "\n",
        "bar(perday,x=\"date\",y=\"noteId\")"
      ],
      "metadata": {
        "id": "nwBVb3pZUg4S"
      },
      "execution_count": null,
      "outputs": []
    },
    {
      "cell_type": "markdown",
      "source": [
        "You can see an overall rise in time. That's a lot of activity.\n",
        "\n",
        "Let's focus on notes from just the last month. We can do this by comparing our datetime column `createdAtDatetime` against a string representing a date (and possibly time). Here we take all the notes created after Feb 1 (the current data runs through Sunday the 25th I believe).\n",
        "\n",
        "(This special comparison with a string like `\"2024-02-01\"` works with a datetime object and not just the straight `date` column we created.)"
      ],
      "metadata": {
        "id": "xJe0y0oAllxT"
      }
    },
    {
      "cell_type": "code",
      "source": [
        "newnotes = notes[notes[\"createdAtDatetime\"] > \"2024-02-01\"]\n",
        "newnotes.shape"
      ],
      "metadata": {
        "id": "AG8JAlw-FByw"
      },
      "execution_count": null,
      "outputs": []
    },
    {
      "cell_type": "markdown",
      "source": [
        "Let's have a look at the tweets that had the most notes created this week!"
      ],
      "metadata": {
        "id": "9BF2b-gFl4zg"
      }
    },
    {
      "cell_type": "code",
      "source": [
        "newnotes.value_counts(\"tweetId\")"
      ],
      "metadata": {
        "id": "FylGCZ67GI9J"
      },
      "execution_count": null,
      "outputs": []
    },
    {
      "cell_type": "markdown",
      "source": [
        "The top two are both from Tucker Carlson about his interview of Vladimir Putin. The third was about a post from Musk, the  owner of X. Here's the three tweets."
      ],
      "metadata": {
        "id": "kAwOnx6umC0P"
      }
    },
    {
      "cell_type": "code",
      "source": [
        "%%HTML\n",
        "<blockquote class=\"twitter-tweet\"><p lang=\"en\" dir=\"ltr\">Ep. 73 The Vladimir Putin Interview <a href=\"https://t.co/67YuZRkfLL\">pic.twitter.com/67YuZRkfLL</a></p>&mdash; Tucker Carlson (@TuckerCarlson) <a href=\"https://twitter.com/TuckerCarlson/status/1755734526678925682?ref_src=twsrc%5Etfw\">February 8, 2024</a></blockquote>\n",
        "<script async src=\"https://platform.twitter.com/widgets.js\" charset=\"utf-8\"></script>"
      ],
      "metadata": {
        "id": "ZB_dzw7WGiFX"
      },
      "execution_count": null,
      "outputs": []
    },
    {
      "cell_type": "code",
      "source": [
        "%%HTML\n",
        "<blockquote class=\"twitter-tweet\"><p lang=\"en\" dir=\"ltr\">Why I&#39;m interviewing Vladimir Putin. <a href=\"https://t.co/hqvXUZqvHX\">pic.twitter.com/hqvXUZqvHX</a></p>&mdash; Tucker Carlson (@TuckerCarlson) <a href=\"https://twitter.com/TuckerCarlson/status/1754939251257475555?ref_src=twsrc%5Etfw\">February 6, 2024</a></blockquote>\n",
        "<script async src=\"https://platform.twitter.com/widgets.js\" charset=\"utf-8\"></script>"
      ],
      "metadata": {
        "id": "BUqiKdnwHHqt"
      },
      "execution_count": null,
      "outputs": []
    },
    {
      "cell_type": "code",
      "source": [
        "%%HTML\n",
        "<blockquote class=\"twitter-tweet\"><p lang=\"en\" dir=\"ltr\">This is a test</p>&mdash; Elon Musk (@elonmusk) <a href=\"https://twitter.com/elonmusk/status/1760446632678834540?ref_src=twsrc%5Etfw\">February 21, 2024</a></blockquote>\n",
        "<script async src=\"https://platform.twitter.com/widgets.js\" charset=\"utf-8\"></script>"
      ],
      "metadata": {
        "id": "CK7vvjEQx_5v"
      },
      "execution_count": null,
      "outputs": []
    },
    {
      "cell_type": "markdown",
      "source": [
        "**4. Write some code to see the notes for each one of these  tweets. What kind of comment was made for each?**"
      ],
      "metadata": {
        "id": "CdseRlAbmVKD"
      }
    },
    {
      "cell_type": "code",
      "source": [
        "# Your code here\n",
        "\n"
      ],
      "metadata": {
        "id": "Os28Cg4KmeJo"
      },
      "execution_count": null,
      "outputs": []
    },
    {
      "cell_type": "markdown",
      "source": [
        "**Introducing group-by**\n",
        "\n",
        "First, read in the data again, just to make sure we've got everything."
      ],
      "metadata": {
        "id": "zXs_D699n2H6"
      }
    },
    {
      "cell_type": "code",
      "source": [
        "import pandas as pd\n",
        "\n",
        "# use set_option() to remove the limits from the number of columns\n",
        "# of a dataframe that can be shown and the number of characters in each cell\n",
        "pd.set_option('display.max_columns', None)\n",
        "pd.set_option('display.max_colwidth', None)\n",
        "\n",
        "# read in the notes and see what the columns are!\n",
        "notes = pd.read_csv(\"https://ton.twimg.com/birdwatch-public-data/2024/02/27/notes/notes-00000.tsv\",sep=\"\\t\")\n",
        "\n",
        "# turning miliseconds into a datetime object\n",
        "notes[\"createdAtDatetime\"] = pd.to_datetime(notes[\"createdAtMillis\"],unit=\"ms\")\n",
        "\n",
        "# and just look at the date component\n",
        "notes[\"date\"] = notes[\"createdAtDatetime\"].dt.date\n",
        "notes.head()"
      ],
      "metadata": {
        "id": "bUYmNyV95Qiz"
      },
      "execution_count": null,
      "outputs": []
    },
    {
      "cell_type": "markdown",
      "metadata": {
        "id": "e6DA1_JW207o"
      },
      "source": [
        "\n",
        "\n",
        "\n",
        "\n",
        "As we have seen so far, a lot of our analytical work has involved *summarization*. That is, computing summary statistics like `sum()`, `mean()`, `median()`, `min()`,  `max()` and even `count()` over aggregations of our data set. We have filtered the data in various ways\n",
        "\n",
        "* Studying the notes on a tweet\n",
        "* Comparing effectiveness of different note takers\n",
        "\n",
        "Here are some simple summary statistics we have computed..."
      ]
    },
    {
      "cell_type": "code",
      "metadata": {
        "id": "-43v5Msd3twI"
      },
      "source": [
        "# number of notes referencing LGBTQ issues\n",
        "notes[\"summary\"].str.upper().str.contains(\"LGBTQ\").sum()"
      ],
      "execution_count": null,
      "outputs": []
    },
    {
      "cell_type": "code",
      "metadata": {
        "id": "W8zFrCXj31kB"
      },
      "source": [
        "# and the fraction\n",
        "notes[\"summary\"].str.upper().str.contains(\"LGBTQ\").mean()"
      ],
      "execution_count": null,
      "outputs": []
    },
    {
      "cell_type": "code",
      "metadata": {
        "id": "MjoH7zRc39hK"
      },
      "source": [
        "# the fraction declared misleading because the tweets are satire\n",
        "notes[\"misleadingSatire\"].mean()"
      ],
      "execution_count": null,
      "outputs": []
    },
    {
      "cell_type": "markdown",
      "source": [
        "Similarly, for categorical data, we've used `value_counts()` to tabulate the number of items of each category."
      ],
      "metadata": {
        "id": "vNo_EK5vaKH5"
      }
    },
    {
      "cell_type": "code",
      "source": [
        "notes.value_counts(\"tweetId\")"
      ],
      "metadata": {
        "id": "TMepd0gjZ7hM"
      },
      "execution_count": null,
      "outputs": []
    },
    {
      "cell_type": "markdown",
      "metadata": {
        "id": "UH5qM390mzjs"
      },
      "source": [
        "The last calculation is dividing the `notes` dataframe by tweets, to separate our data by `tweetId`. Then, to each group we `count()` the number of notes associated with each `tweetID`.\n",
        "\n",
        "The **group-by** operation extends these ideas, and lets us aggregate our data based on some label or the values of one or more columns in our data. In words, the group-by operation *splits* the data according to some condition, *applies* some aggregation within those groups, and then *combines* the data back together.\n",
        "\n",
        "In pictures, this is how group-by works.\n",
        "\n",
        "![Split Apply Combine figure](https://github.com/altair-viz/altair-tutorial/blob/master/notebooks/split-apply-combine.png?raw=1)\n",
        "[Figure source](https://jakevdp.github.io/PythonDataScienceHandbook/03.08-aggregation-and-grouping.html)"
      ]
    },
    {
      "cell_type": "markdown",
      "metadata": {
        "id": "fdPNxIrUmzjt"
      },
      "source": [
        "So let's look at how pandas implements this group-by operation using the method `groupby()`. First, let's split the data into groups based on `AnimalGroupParent`. We'll just use the `lfb` DataFrame, and call `groupby()` with this column name.\n",
        "\n"
      ]
    },
    {
      "cell_type": "code",
      "metadata": {
        "id": "ID48seyXxnxu"
      },
      "source": [
        "tweet_groups = notes.groupby(\"tweetId\")\n",
        "tweet_groups"
      ],
      "execution_count": null,
      "outputs": []
    },
    {
      "cell_type": "markdown",
      "metadata": {
        "id": "E-h22G7463JC"
      },
      "source": [
        "As we have seen, this returns a `DataFrameGroupBy` object. Stepping ahead just a little, we can examine what this structure looks like. Literally it has created groups by dividing the `note` DataFrame into pieces. One piece per tweet in the `tweetId` column.\n",
        "\n",
        "To see this we will *iterate* or *loop* over the groups using a `for` loop. Let's run it and talk about what it is doing after."
      ]
    },
    {
      "cell_type": "code",
      "metadata": {
        "id": "o2KfSRBhu7k1"
      },
      "source": [
        "# loop over the groups formed by groupby(). Each has a\n",
        "# label (a tweetId) and then a DataFrame holding all\n",
        "# the rows relating to notes about this tweet\n",
        "\n",
        "for tweet,df in tweet_groups:\n",
        "  print(\"---\"*10)\n",
        "  print(\"First five rows of group for tweets -\", tweet)\n",
        "  print(df.head(5))"
      ],
      "execution_count": null,
      "outputs": []
    },
    {
      "cell_type": "markdown",
      "metadata": {
        "id": "2fGpCQT170QU"
      },
      "source": [
        "Each tweetId is associated with a DataFrame that has just the rows from `notes` that involve the given tweet.\n",
        "\n",
        "The display above starts with a separator \"-----------\". It then has a message that what follows are the first five rows of the DataFrame associated with a particular tweet. It then prints out the first five rows (assuming there are five). The printout of the rows is long and not what we're used to seeing. But scroll through the output and start with a \"-----------\" and read it over. Make sure you understand that we're looking at pieces of our `notes` DataFrame broken down by tweetId.\n",
        "\n",
        "We can grab one of these group's DataFrame using `get_group()`. Here's one involving a Tesla, with `tweetId`  `1719444510416032022`."
      ]
    },
    {
      "cell_type": "code",
      "metadata": {
        "id": "WOhazlOpxA8S"
      },
      "source": [
        "tweet_groups.get_group(1719444510416032022)"
      ],
      "execution_count": null,
      "outputs": []
    },
    {
      "cell_type": "markdown",
      "metadata": {
        "id": "OUSSXpwc8ZqU"
      },
      "source": [
        "To be clear, this is all the notes associated with `tweetId` `1719444510416032022` from `notes`. That should be the same as if we manually extracted just the the notes from `notes` using the subsetting we learned."
      ]
    },
    {
      "cell_type": "code",
      "metadata": {
        "id": "kmWF0_DOyLuN"
      },
      "source": [
        "notes[notes[\"tweetId\"]==1719444510416032022]"
      ],
      "execution_count": null,
      "outputs": []
    },
    {
      "cell_type": "markdown",
      "metadata": {
        "id": "PIr1_aPH8kGu"
      },
      "source": [
        "From the grouped data structure, we can do all the subsetting we might usually do in pandas. Here we pull the column `createdAtMillis` from the group of notes."
      ]
    },
    {
      "cell_type": "code",
      "metadata": {
        "id": "MvoGCAR2xOW5"
      },
      "source": [
        "tweet_groups.get_group(1719444510416032022)[\"createdAtMillis\"]"
      ],
      "execution_count": null,
      "outputs": []
    },
    {
      "cell_type": "markdown",
      "metadata": {
        "id": "QLCFfWVZ9EhF"
      },
      "source": [
        "Which compares to what we would do if we manually extracted the column of times from the DataFrame of just notes about tweet `1719444510416032022`."
      ]
    },
    {
      "cell_type": "code",
      "metadata": {
        "id": "E0B8lN4D9Ndm"
      },
      "source": [
        "notes[notes[\"tweetId\"]==1719444510416032022][\"createdAtMillis\"]"
      ],
      "execution_count": null,
      "outputs": []
    },
    {
      "cell_type": "markdown",
      "metadata": {
        "id": "n9D5Mx6A9QJz"
      },
      "source": [
        "Finally, to each group we can apply one of our summary statistics like `sum()` and `std()` and `count()`.\n",
        "\n",
        "Here is one summary, the number of rows or the *count* of items in our aggregate, this time just applied first to the group corresponding to `tweetId` `1719444510416032022`..."
      ]
    },
    {
      "cell_type": "code",
      "metadata": {
        "id": "6NqyxjOjxXub"
      },
      "source": [
        "tweet_groups.get_group(1719444510416032022)[\"createdAtMillis\"].count()"
      ],
      "execution_count": null,
      "outputs": []
    },
    {
      "cell_type": "markdown",
      "metadata": {
        "id": "E5popXoJ9wxa"
      },
      "source": [
        "... and then removing `.get_group()` and applying it to all the groups."
      ]
    },
    {
      "cell_type": "code",
      "metadata": {
        "id": "MT7NfEF-xc1K"
      },
      "source": [
        "tweet_groups[\"createdAtMillis\"].count()"
      ],
      "execution_count": null,
      "outputs": []
    },
    {
      "cell_type": "markdown",
      "metadata": {
        "id": "7Qgoewp_-AFi"
      },
      "source": [
        "(Which should look like the output from `.value_counts()`.) We can also select the column `notMisleadingFactuallyCorrect` and look at the fraction of notes about the tweet that were thought to be factually correct."
      ]
    },
    {
      "cell_type": "code",
      "metadata": {
        "id": "Yv6VF1L_922Z"
      },
      "source": [
        "tweet_groups[\"notMisleadingFactuallyCorrect\"].mean()"
      ],
      "execution_count": null,
      "outputs": []
    },
    {
      "cell_type": "markdown",
      "metadata": {
        "id": "gm8sKIrq-HVS"
      },
      "source": [
        "We can do these calls in one line. That is, instead of forming `tweet_groups`, we can do all this in one command."
      ]
    },
    {
      "cell_type": "code",
      "metadata": {
        "id": "LBIGADwpwf_F"
      },
      "source": [
        "notes.groupby(\"tweetId\")[\"createdAtMillis\"].count()\n"
      ],
      "execution_count": null,
      "outputs": []
    },
    {
      "cell_type": "markdown",
      "source": [
        "Or maybe instead we summarize the aggregate with `min()`, meaning the first time a note appeared about the tweet."
      ],
      "metadata": {
        "id": "kKAYQH__gcoK"
      }
    },
    {
      "cell_type": "code",
      "source": [
        "notes.groupby(\"tweetId\")[\"createdAtMillis\"].min()"
      ],
      "metadata": {
        "id": "CiiNMhAggUlz"
      },
      "execution_count": null,
      "outputs": []
    },
    {
      "cell_type": "code",
      "metadata": {
        "id": "B9oEyZU8-VFu"
      },
      "source": [
        "notes.groupby(\"tweetId\")[\"notMisleadingFactuallyCorrect\"].mean()"
      ],
      "execution_count": null,
      "outputs": []
    },
    {
      "cell_type": "markdown",
      "metadata": {
        "id": "WTlYphdp_AFv"
      },
      "source": [
        "This is incredibly powerful for our analysis!\n",
        "\n",
        "Let's push this a little farther. First, compute the number of notes per participant. We group-by `noteAuthorParticipantId` and then `count()` the number of notes per person."
      ]
    },
    {
      "cell_type": "code",
      "metadata": {
        "id": "FeWWmX-jtRsq"
      },
      "source": [
        "notes.groupby(\"noteAuthorParticipantId\")[\"noteId\"].count()"
      ],
      "execution_count": null,
      "outputs": []
    },
    {
      "cell_type": "markdown",
      "metadata": {
        "id": "9BV5dFU8_O73"
      },
      "source": [
        "The result here is a Series. The title `noteAuthorParticipantId` is playing the role of an index labeling each entry in the Series. We can keep the `noteAuthorParticipantId` as a column in a DataFrame by using the argument `as_index=False`.\n",
        "\n",
        "Here's the same call as the one above but with this new argument added."
      ]
    },
    {
      "cell_type": "code",
      "metadata": {
        "id": "tPM6C-W_t7HH"
      },
      "source": [
        "notes.groupby(\"noteAuthorParticipantId\",as_index=False)[\"noteId\"].count()"
      ],
      "execution_count": null,
      "outputs": []
    },
    {
      "cell_type": "markdown",
      "metadata": {
        "id": "XBfU_XeL_qOm"
      },
      "source": [
        "This way, we have a DataFrame with columns `noteAuthorParticipantId` and `noteId` to hold the counts of notes per participant.\n",
        "\n",
        "The summary statistics  we learned about earlier can be applied to a single column - here we look at the proportion of tweets each participant marked as factually correct."
      ]
    },
    {
      "cell_type": "code",
      "metadata": {
        "id": "-i7Xqlchr5dz"
      },
      "source": [
        "notes.groupby(\"noteAuthorParticipantId\",as_index=False)[\"notMisleadingFactuallyCorrect\"].mean()"
      ],
      "execution_count": null,
      "outputs": []
    },
    {
      "cell_type": "markdown",
      "metadata": {
        "id": "iLDHwljWAZV7"
      },
      "source": [
        "... or to multiple columns - here we look at the fraction of times each contributor marked a tweet as factually correct or factually incorrect."
      ]
    },
    {
      "cell_type": "code",
      "metadata": {
        "id": "uEVTRZ-or5T5"
      },
      "source": [
        "notes.groupby(\"noteAuthorParticipantId\",as_index=False)[[\"notMisleadingFactuallyCorrect\",\"misleadingFactualError\"]].mean()"
      ],
      "execution_count": null,
      "outputs": []
    },
    {
      "cell_type": "markdown",
      "metadata": {
        "id": "2QZteuktBzBR"
      },
      "source": [
        "Finally, we can also group-by the unique combinations of values from two or more columns. This is like what we did with `.value_counts()`.\n",
        "\n",
        "Here we look at grouping by both participant and year, tallying total notes and total tweets declared factually incorrect. (Compare the code in the next cell to the one above.)"
      ]
    },
    {
      "cell_type": "code",
      "metadata": {
        "id": "IZmKHA0sr46l"
      },
      "source": [
        "# use the datetime column to pull out the year\n",
        "notes[\"year\"] = notes['createdAtDatetime'].dt.year\n",
        "\n",
        "notes.groupby([\"noteAuthorParticipantId\",\"year\"],as_index=False)[[\"notMisleadingFactuallyCorrect\",\"misleadingFactualError\"]].mean()"
      ],
      "execution_count": null,
      "outputs": []
    },
    {
      "cell_type": "markdown",
      "metadata": {
        "id": "VgKGHODSAhVl"
      },
      "source": [
        "So far, we have applied one summary to all the columns we specify. Instead, we can compute any kind of summary statistic for each column. Here we use the method `.agg()` to be very explicit about what we are wanting to compute. This method takes \"tuples\" with column names and  summary statistics as the associated values.\n",
        "\n",
        "The result below is a new DataFrame called `contributors` that has columns of the number of notes each participant created and the time of their first and last ones."
      ]
    },
    {
      "cell_type": "code",
      "metadata": {
        "id": "jT5GsDgNr5JM"
      },
      "source": [
        "# use .agg() to specify how to summarize each column\n",
        "contributors = notes.groupby(\"noteAuthorParticipantId\",as_index=False).agg(count=(\"noteId\",\"count\"),\n",
        "                                                                           start=(\"createdAtDatetime\",\"min\"),\n",
        "                                                                           end=(\"createdAtDatetime\",\"max\"))\n",
        "contributors"
      ],
      "execution_count": null,
      "outputs": []
    },
    {
      "cell_type": "markdown",
      "source": [
        "**Bringing in the Tweets**\n",
        "\n",
        "In terms of DataFrames, the character missing from the story so far are the tweets themselves. Right now we're looking them up manually.\n",
        "\n",
        "We can use [Twitter's Application Programming Interface (API)](https://developer.twitter.com/en/products/twitter-api) to pull the  tweets that had notes written about them this month. We spent a lot of time talking about APIs -- they are an easy way to ask a web site for data. The \"I\" for Interface refers the well-documented way you can ask for data and the consistent format that is used to deliver what you asked for.\n",
        "\n",
        "I used the Twitter API to pull 1400 of the top noted tweets (the API has rate limits and I cut it off figuring it would take a while to get all I needed).\n",
        "\n",
        "Still, let's read it in."
      ],
      "metadata": {
        "id": "cOGjXZQ8G2Po"
      }
    },
    {
      "cell_type": "code",
      "source": [
        "from pandas import read_csv\n",
        "\n",
        "tweets = read_csv(\"https://github.com/cocteau/Computational_Journalism_2024/raw/main/data/tweets.csv\")"
      ],
      "metadata": {
        "id": "97qqaUTqJezG"
      },
      "execution_count": null,
      "outputs": []
    },
    {
      "cell_type": "code",
      "source": [
        "tweets.head()"
      ],
      "metadata": {
        "id": "1Q4vfULkemaf"
      },
      "execution_count": null,
      "outputs": []
    },
    {
      "cell_type": "markdown",
      "source": [
        "**5. Who is responsible for the greatest number of these top 1400 tweets. Who came in second? Third?**"
      ],
      "metadata": {
        "id": "kgsr2O0II6IE"
      }
    },
    {
      "cell_type": "code",
      "source": [
        "# Your code here"
      ],
      "metadata": {
        "id": "s5AxXxXBJJhJ"
      },
      "execution_count": null,
      "outputs": []
    },
    {
      "cell_type": "markdown",
      "source": [
        "**6. Select a tweet (maybe one with a lot of retweets or one from someone you follow) and extract the notes on it from your DataFrame `newnotes`.**"
      ],
      "metadata": {
        "id": "jLnc9iv0JR0m"
      }
    },
    {
      "cell_type": "code",
      "source": [
        "# Your code\n",
        "\n"
      ],
      "metadata": {
        "id": "lYfVZY1ATo5j"
      },
      "execution_count": null,
      "outputs": []
    },
    {
      "cell_type": "markdown",
      "source": [
        "Finally, let's now consider the ratings data. It is accessible from the same page that our `notes` DataFrame came from on Twitter's website. The file (the first file) is 9M rows. That crashed my little Google box a couple times. To be safe, I created a smaller file with just the last week of ratings."
      ],
      "metadata": {
        "id": "DvouMPdhZTYT"
      }
    },
    {
      "cell_type": "code",
      "source": [
        "import pandas as pd\n",
        "\n",
        "# remove the limits from the number of columns that can be shown\n",
        "# and the number of characters in each cell\n",
        "pd.set_option('display.max_columns', None)\n",
        "pd.set_option('display.max_colwidth', None)\n",
        "\n",
        "# read in the notes and see what the columns are!\n",
        "ratings = pd.read_csv(\"https://www.dropbox.com/scl/fi/hxt22duizfco4j9nuxcmm/ratings.csv?rlkey=9jlrfqrsyofz92sp2tvcphi9k&dl=1\")\n",
        "ratings.columns"
      ],
      "metadata": {
        "id": "hiST6CPHZcZB"
      },
      "execution_count": null,
      "outputs": []
    },
    {
      "cell_type": "code",
      "source": [
        "ratings.shape"
      ],
      "metadata": {
        "id": "C3sIQFbsZuzG"
      },
      "execution_count": null,
      "outputs": []
    },
    {
      "cell_type": "markdown",
      "source": [
        "That's just in one week!"
      ],
      "metadata": {
        "id": "g4LLbQGfYmmi"
      }
    },
    {
      "cell_type": "markdown",
      "source": [
        "Each row of this table is a rating of some note by a Community Notes participant. The [data dictionary](https://communitynotes.x.com/guide/en/under-the-hood/download-data) describes the columns. The `participantId` indicates who submitted each rating. These ID's appear also in the `notes` dataframe, as one person can both generate notes and rate the notes from others.\n",
        "\n",
        "The `noteId` says which note was rated. This ID matches those in the `notes` table. This is the soul of the \"relational database\" model. Data are divided into different tables, the division providing a logical organization of the data. More on that at the end of the notebook.\n",
        "\n",
        "The `helpfulnessLevel` holds the rater's answer as to whether they thought the note was `NOT_HELPFUL`, `SOMEWHAT_HELPFUL`, or `HELPFUL`.\n",
        "\n",
        "There are other columns, but we'll focus on these initially. Let's have a look."
      ],
      "metadata": {
        "id": "L07nY-8oK5pu"
      }
    },
    {
      "cell_type": "code",
      "source": [
        "ratings[[\"raterParticipantId\",\"noteId\",\"helpfulnessLevel\"]]"
      ],
      "metadata": {
        "id": "xy1UGkZBawmU"
      },
      "execution_count": null,
      "outputs": []
    },
    {
      "cell_type": "markdown",
      "source": [
        "Here we might look at the different counts of ratings per `noteId`. Some have quite a lot of activity."
      ],
      "metadata": {
        "id": "1fJxGR21buFj"
      }
    },
    {
      "cell_type": "code",
      "source": [
        "ratings.value_counts(\"noteId\")"
      ],
      "metadata": {
        "id": "BlbAb5j8ZxEd"
      },
      "execution_count": null,
      "outputs": []
    },
    {
      "cell_type": "markdown",
      "source": [
        "We can look up the most rated note in the `notes` table and see what was said..."
      ],
      "metadata": {
        "id": "pr9zv3GJOfkN"
      }
    },
    {
      "cell_type": "code",
      "source": [
        "notes[notes[\"noteId\"]==1760782212792807773]"
      ],
      "metadata": {
        "id": "bZiCXk-UOY2l"
      },
      "execution_count": null,
      "outputs": []
    },
    {
      "cell_type": "markdown",
      "source": [
        "... and to decide if this often-rated note was useful, we can look at it's `helpfulnessLevel`. A simple `.value_counts()` will do."
      ],
      "metadata": {
        "id": "lOMckZqjb4Su"
      }
    },
    {
      "cell_type": "code",
      "source": [
        "ratings[ratings[\"noteId\"]==1760782212792807773].value_counts(\"helpfulnessLevel\")"
      ],
      "metadata": {
        "id": "92-NwSO5aQsb"
      },
      "execution_count": null,
      "outputs": []
    },
    {
      "cell_type": "markdown",
      "source": [
        "Let's see how each note performed in terms of its ratings. We can use our new friend `.groupby()` to cluster the data by `noteId` and `helpfulnessLevel` and then count how many times each occurs."
      ],
      "metadata": {
        "id": "PqdXIrIWb-ZJ"
      }
    },
    {
      "cell_type": "code",
      "source": [
        "tmpratings = ratings.groupby([\"noteId\",\"helpfulnessLevel\"],as_index=False)[\"raterParticipantId\"].count()\n",
        "tmpratings"
      ],
      "metadata": {
        "id": "kzYG9ei7WIAy"
      },
      "execution_count": null,
      "outputs": []
    },
    {
      "cell_type": "markdown",
      "source": [
        "**Table manipulations**\n",
        "\n",
        "First, notice that our data sets, `tweets`, `notes`, and `ratings` all deal with different kinds of things. They link together through a system of IDs. Tweets are referenced in both the `notes` and `ratings` tables through the `tweetId`. And in the `tweets` table, there is a unique `tweetId` per tweet.\n",
        "\n",
        "We have then linked across (manually), to find which tweet text is associated with a collection of notes, say. Similarly, we could collect all the ratings for a given note and then pull that note text, or the indications that the note's creator left in terms of its factual correctness.\n",
        "\n",
        "This division of data into separate tables is the hallmark of what's often called the \"relational data model\". Quoting [here](https://www.tutorialspoint.com/Relational-Database-Model), the model consists of\n",
        "\n",
        ">**Relations and attributes**: The various tables and attributes related to each table are identified. The tables represent entities, and the attributes represent the properties of the respective entities.\n",
        "<br><br>\n",
        "**Primary keys**: The attribute or set of attributes that help in uniquely identifying a record is identified and assigned as the primary key.\n",
        "<br><br>\n",
        "**Relationships**: The relationships between the various tables are established with the help of foreign keys. Foreign keys are attributes occurring in a table that are primary keys of another table. The types of relationships that can exist between the relations (tables) are One to one, One to many, and Many to many\n",
        "<br><br>\n",
        "**Normalization**: This is the process of optimizing the database structure. Normalization simplifies the database design to avoid redundancy and confusion.\n",
        "\n",
        "In our case, the entities are tweets and notes and ratings. The primary keys are the `tweetId` for `tweets`, the `noteId` for `notes` and for `ratings` it's the pair `noteId` and `raterParticipantId` (making the pair a \"composite primary key\")."
      ],
      "metadata": {
        "id": "TETeNmLysh4s"
      }
    },
    {
      "cell_type": "code",
      "source": [
        "ratings.value_counts([\"noteId\",\"raterParticipantId\"])"
      ],
      "metadata": {
        "id": "mDGPI6F-vs1-"
      },
      "execution_count": null,
      "outputs": []
    },
    {
      "cell_type": "markdown",
      "source": [
        "The relational model has a lot going for it. By dividing the data into distinct entities, we have information in only one place. Suppose we need to correct a tweet or make a change in one of the notes. We have to touch just one table to make the change. (As opposed to including the original tweet text along with each note, say.)\n",
        "\n",
        "But that does leave us wanting to perform analyses that joins different data sets. In pandas, we can \"merge\" data sets together to create new data relations. The function is, um, `merge()`. There are several ways to perform this operation. (Left and right here refer to the two dataframes in the `merge` call - one is on the left and one is on the right.)\n",
        "\n",
        "* **left**: use only keys from left frame\n",
        "\n",
        "* **right**: use only keys from right frame\n",
        "\n",
        "* **outer**: use union of keys from both frames\n",
        "\n",
        "* **inner**: use intersection of keys from both frames\n",
        "\n",
        "* **cross**: creates the cartesian product from both frames\n",
        "\n",
        "Let's look at a couple different examples, adding tweet data to the information about each note."
      ],
      "metadata": {
        "id": "rb4Ir957wpcl"
      }
    },
    {
      "cell_type": "code",
      "source": [
        "notes.shape"
      ],
      "metadata": {
        "id": "FpU6EfUFyvQ4"
      },
      "execution_count": null,
      "outputs": []
    },
    {
      "cell_type": "code",
      "source": [
        "# add tweets to notes where you can, leave NA where you can't\n",
        "m1 = pd.merge(notes,tweets,on=\"tweetId\",how=\"left\")\n",
        "m1.shape"
      ],
      "metadata": {
        "id": "p0tZ7BWUx7GU"
      },
      "execution_count": null,
      "outputs": []
    },
    {
      "cell_type": "code",
      "source": [
        "# drop all notes that don't have tweets in our data set\n",
        "m1 = pd.merge(notes,tweets,on=\"tweetId\",how=\"inner\")\n",
        "m1.shape"
      ],
      "metadata": {
        "id": "muEAFQ4dy8-w"
      },
      "execution_count": null,
      "outputs": []
    },
    {
      "cell_type": "markdown",
      "source": [
        "Remember, we just have 1400 tweets and so not all the notes will have their tweet in the set.\n",
        "\n",
        "Now, try it yourself!"
      ],
      "metadata": {
        "id": "ZUMpU_mf0Qs4"
      }
    },
    {
      "cell_type": "code",
      "source": [
        "# your code here\n",
        "\n"
      ],
      "metadata": {
        "id": "5hjdQjfQ0o9l"
      },
      "execution_count": null,
      "outputs": []
    },
    {
      "cell_type": "markdown",
      "source": [
        "Let's go back to our ratings breakdown by note."
      ],
      "metadata": {
        "id": "k795ewr61G1W"
      }
    },
    {
      "cell_type": "code",
      "source": [
        "tmpratings = ratings.groupby([\"noteId\",\"helpfulnessLevel\"],as_index=False)[\"raterParticipantId\"].count()\n",
        "tmpratings"
      ],
      "metadata": {
        "id": "pqPimDlx1Hw6"
      },
      "execution_count": null,
      "outputs": []
    },
    {
      "cell_type": "markdown",
      "source": [
        "\n",
        "Suppose next our goal is to `merge()` a summary of the rating data with our `notes` DataFrame. Then this DataFrame isn't quite what we want. This is a \"long\" form of the data, with up to three rows per note. Instead we'd prefer a \"wide\" data set.\n",
        "\n",
        "That is, instead of stretchng out the ratings in the column `helpfulnessLevel`, we can create three columns, one for each of HELPFUL, NOT_HELPFUL and SOMEWHAT_HELPFUL. Our data for the first note might look like this\n",
        "\n",
        "```\n",
        "noteId\t            HELPFUL\tNOT_HELPFUL SOMEWHAT_HELPFUL\n",
        "1354678831655735296\t      4             1                0\n",
        "```\n",
        "\n",
        "See? Long to wide.\n",
        "\n",
        "The tool we need to do this is an old fashioned pivot table. Here we group the entries in `tmpratings` by `noteId`, pull data from down the `helpfulnessLevel` column and use the counts in the `raterParticipantId` column to fill in columns for the three kinds of ratings.\n",
        "\n",
        "We introduce 0's if some rating wasn't present for a note."
      ],
      "metadata": {
        "id": "DsKkGU6vRqLL"
      }
    },
    {
      "cell_type": "code",
      "source": [
        "ratingcounts = pd.pivot_table(tmpratings,index=\"noteId\",columns=\"helpfulnessLevel\",values=\"raterParticipantId\",fill_value=0).reset_index()\n",
        "ratingcounts"
      ],
      "metadata": {
        "id": "BsfyDQFMe11j"
      },
      "execution_count": null,
      "outputs": []
    },
    {
      "cell_type": "markdown",
      "source": [
        "In pictures, this is what `pivot_table()` is doing. (The figure from the pandas web site refers to \"stacked\" and \"records\" versus \"long\" and \"wide\".\n",
        "\n",
        "<img src=\"https://pandas.pydata.org/pandas-docs/stable/_images/reshaping_pivot.png\" width=500>"
      ],
      "metadata": {
        "id": "vGgQalsf1fj2"
      }
    },
    {
      "cell_type": "markdown",
      "source": [
        "Finally, let's merge this data set into the `newnotes` data we created earlier -- this contained data about notes made this month.\n",
        "\n",
        "Here we are merging on the left, meaning we are taking each row of `newnotes` and looking up the rating data in `ratingcounts` and adding it if we find it.\n",
        "\n",
        "If we don't find it, we fill the rating data with 0's, as it means none of the Community Notes raters rated it yet."
      ],
      "metadata": {
        "id": "A4KL4jrETzmp"
      }
    },
    {
      "cell_type": "code",
      "source": [
        "# recall newnotes was just the most recent week of notes\n",
        "newnotes = notes[notes[\"createdAtDatetime\"] > \"2024-02-01\"]\n",
        "\n",
        "# merge newnotes with the rating counts to see how each performed.\n",
        "# we use fillna(0) to turn all the missing values in the data to 0's.\n",
        "# the missing values come from notes that have not been rated and so\n",
        "# the NaN's are legitimately 0\n",
        "newnotes = pd.merge(newnotes,ratingcounts,on=\"noteId\",how=\"left\").fillna(0)\n",
        "newnotes.columns"
      ],
      "metadata": {
        "id": "ntBrZCHFf-R9"
      },
      "execution_count": null,
      "outputs": []
    },
    {
      "cell_type": "code",
      "source": [
        "newnotes.shape"
      ],
      "metadata": {
        "id": "fo_fP99cV-gD"
      },
      "execution_count": null,
      "outputs": []
    },
    {
      "cell_type": "markdown",
      "source": [
        "And now let's look... Here I keep just a few columns again."
      ],
      "metadata": {
        "id": "k1I8Vy3XYMQM"
      }
    },
    {
      "cell_type": "code",
      "source": [
        "newnotes[[\"summary\",\"date\",\"HELPFUL\",\"NOT_HELPFUL\",\"SOMEWHAT_HELPFUL\"]]"
      ],
      "metadata": {
        "id": "RF_FPR6-aDIz"
      },
      "execution_count": null,
      "outputs": []
    },
    {
      "cell_type": "code",
      "source": [
        "newnotes = pd.merge(newnotes,tweets[[\"name\",\"tweetId\",\"tweet\"]],on=\"tweetId\",how=\"left\")\n",
        "newnotes.columns"
      ],
      "metadata": {
        "id": "Hai30atveF-S"
      },
      "execution_count": null,
      "outputs": []
    },
    {
      "cell_type": "code",
      "source": [
        "newnotes[[\"name\",\"tweet\",\"summary\",\"date\",\"HELPFUL\",\"NOT_HELPFUL\",\"SOMEWHAT_HELPFUL\"]][~newnotes[\"tweet\"].isna()]"
      ],
      "metadata": {
        "id": "Gr9i_Qb6ePtn"
      },
      "execution_count": null,
      "outputs": []
    },
    {
      "cell_type": "markdown",
      "source": [
        "I've gone through the details of forming these different DataFrames to show you the kind of prep work we might go through to start analyzing a reasonably rich data set.\n",
        "\n",
        "**7. Your turn. We now have a lot of data. We have a dataframe of notes from this month called `newnotes.` It includes ratings for each note from the Birdwatch community. And we have a collection of tweets that these notes refer to called `tweets`. Come up with a question about these data and write the code to answer it. Try a few questions if you're feeling particularly interested in how Birdwatch works.**"
      ],
      "metadata": {
        "id": "MaAYu3RSYV_f"
      }
    },
    {
      "cell_type": "markdown",
      "source": [
        "Your question goes here"
      ],
      "metadata": {
        "id": "1sSbMLrjZD98"
      }
    },
    {
      "cell_type": "code",
      "source": [
        "# your code here\n",
        "\n"
      ],
      "metadata": {
        "id": "uM4bcst0X0NY"
      },
      "execution_count": null,
      "outputs": []
    },
    {
      "cell_type": "markdown",
      "source": [
        "Consider where we might go next. Watching this platform evolve or implode over the next few weeks would be an amazing project for the class.\n",
        "\n",
        "Before we leave, a comment on tables. Keep in mind the underlying data here. We don't have a single file, but we have three, each one examining a different aspect of the Birdwatch program. One holds notes, one holds ratings and one tracks the history of a note as it is considered helpful or not.\n",
        "\n",
        "This how a \"relational model\" database model works. Tables are linked together by keys. Our ratings table, for example, holds data about each rating that Birdwatchers contributed. Each rating refers to a note (via the `noteId`) another participant left behind. The details of that note are in the notes table.\n",
        "\n",
        "By putting all the data about ratings in one place, separate from that for the notes, we achieve some (at least logical) efficiency. As ratings come in, they do not change the note, its `summary` text or the time it was created or the tweet it refers to. This note-specific data is kept in one place.\n",
        "\n",
        "We \"merge\" these tables together when we need a bigger story.\n",
        "<br>\n",
        "<br>\n"
      ],
      "metadata": {
        "id": "wBPGksOWZKay"
      }
    }
  ]
}